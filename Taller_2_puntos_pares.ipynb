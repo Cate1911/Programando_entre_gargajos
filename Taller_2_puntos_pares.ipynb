{
 "cells": [
  {
   "cell_type": "code",
   "execution_count": null,
   "metadata": {},
   "outputs": [],
   "source": [
    "#Separar parte entera y parte decimal de un número\n",
    "import math #importar la función math\n",
    "\n",
    "def separar_partes_número(n:float) -> float: #definir la función para separar las partes del número\n",
    "    parte_entera, parte_decimal = math.modf(n) #definir las variables de la parte entera y decimal\n",
    "    return parte_entera, parte_decimal\n",
    "\n",
    "if __name__== \"__main__\": #definir la función main\n",
    "    n=float(input(\"Ingrese un número real: \")) #pedirle al usuario que ingrese un número real\n",
    "\n",
    "    entera, decimal = separar_partes_número(n) #declarar e inicializar las variables para mencionar la función separar_partes_número\n",
    "\n",
    "    print(f\"La parte entera de {n} es {entera} y la parte decimal de {n} es {decimal}.\") #imprimir resultado"
   ]
  },
  {
   "cell_type": "code",
   "execution_count": null,
   "metadata": {},
   "outputs": [],
   "source": [
    "#Aproximación de la función coseno alrededor de 0 para cualquier valor x\n",
    "import math #importar la función math\n",
    "\n",
    "def calcular_aproximacion_coseno(x:float) -> float: #definir función main\n",
    "    \n",
    "    suma = 0 #inicializar la variable suma como 0\n",
    "\n",
    "    for i in range(n): #utilizar ciclo for en un rango de n(términos de la secuencia)\n",
    "        numerador = x ** (2*i) #calcular el numerador para realizar la aproximación\n",
    "        denominador_0 = 2 * i #calcular el denominador sin el factorial\n",
    "        denominador = math.factorial(denominador_0) #calcular el factorial del denominador\n",
    "        fraccion = numerador / denominador #calcular la fracción completa\n",
    "        independiente = (-1) ** i #calcular el término que va a multiplicar la fracción\n",
    "        final = fraccion * independiente #multiplicar la fracción y el término independiente\n",
    "\n",
    "        suma += final #actualizar la suma para que me sume todos los resultados de las operaciones entre independiente y fracción\n",
    "    return suma\n",
    "\n",
    "if __name__ == \"__main__\": #definir la función main\n",
    "    x = float(input(\"Ingrese el valor de x para calcular el coseno de x: \")) #pedirle al usuario que ingrese el ángulo al cual le quiere hallar el coseno\n",
    "    n = int(input(\"Ingrese la cantidad de términos que quiere utilizar en la secuencia de Taylor: \")) #pedirle al usuaria que ingrese el número de términos que quiere utilizar en la secuencia de Taylor\n",
    "    coseno = math.cos(x) #calcular el coseno de x\n",
    "    errores = [0.001, 0.1, 10, 1] #crear una lista con los errores\n",
    "\n",
    "    aproximacion = calcular_aproximacion_coseno(x) #declarar e inicializar la función calcular_aproximacion_coseno\n",
    "    \n",
    "    diferencia_valor_real_y_aproximacion : float = (abs(coseno - aproximacion) / coseno) * 100 #calcular el porcentaje de error entre la aproximación y el error\n",
    "\n",
    "    if diferencia_valor_real_y_aproximacion in errores: #definir una condición para verificar si el n hace que el porcentaje de error se encuentre en la lista de errores\n",
    "        print(f\"La aproximación del coseno es {aproximacion} y el valor real del cos(x) es {coseno}\")\n",
    "        print(f\"El porcentaje de error entre la aproximación y el valor real del coseno es {diferencia_valor_real_y_aproximacion}%\")\n",
    "    else: #condición si n no hace que el valor del porcentaje de error se encuentre en la lista de errores\n",
    "        print(f\"La aproximación del coseno es {aproximacion} y el valor real del cos(x) es {coseno}\")\n",
    "        print(f\"El porcentaje de error entre la aproximación y el valor real del coseno es {diferencia_valor_real_y_aproximacion}%\")"
   ]
  },
  {
   "cell_type": "code",
   "execution_count": 22,
   "metadata": {},
   "outputs": [
    {
     "name": "stdout",
     "output_type": "stream",
     "text": [
      "Lista completa:['6', '5', '7', 'g', 'hgh', '7', 'g']\n",
      "En la lista hay elementos repetidos.\n"
     ]
    }
   ],
   "source": [
    "#Programa que determine si en una lista hay elementos repetidos o no\n",
    "def repetidos(lista_random):\n",
    "    while True: #utilizar un booleano en el ciclo while\n",
    "        n = input(\"Ingrese un elemento para agregar a la lista, o ingrese '1' para detener la entrada: \") #pedirle al usuario que ingrese un número\n",
    "    \n",
    "        if n == \"1\": #condición para que ya no se puedan agregar más elementos a la lista\n",
    "            break  #salida del bucle si se ingresa '1'\n",
    "    \n",
    "        lista_random.append(n) #agregar todos los n a la lista random\n",
    "\n",
    "    repetidos : bool = False #declarar e inicializar la variable repetidos como un booleano\n",
    "    \n",
    "    for random in lista_random: #utilizar el ciclo for para que me recorra cada elemento de la lista\n",
    "        if lista_random.count(random) > 1: #verificar si cada elemento de la lista no se repite más que 1 vez\n",
    "            repetidos = True #si se repite más de una vez, el booleano 'repetidos' va a ser verdadero\n",
    "            break #salida del ciclo si hay elementos repetidos\n",
    "    return lista_random, repetidos\n",
    "if __name__ == \"__main__\":\n",
    "    lista_random = [] #crear lista vacía\n",
    "    lista_random, los_repetidos = repetidos(lista_random) #declarar e inicializar las variables con los resultados que arroja la función repetidos\n",
    "    \n",
    "    print(f\"Lista completa:{lista_random}\") #imprimir la lista completa\n",
    "    \n",
    "    if los_repetidos: #condición si hay elementos repetidos\n",
    "        print(\"En la lista hay elementos repetidos.\")\n",
    "    else: #condición si no hay elementos repetidos\n",
    "        print(\"En la lista no hay elementos repetidos.\")"
   ]
  },
  {
   "cell_type": "code",
   "execution_count": null,
   "metadata": {},
   "outputs": [],
   "source": [
    "#Programa que dadas dos listas determine qué elementos tiene la primer lista que no tenga la segunda lista\n",
    "def elementos_repetición(lista_1, lista_2):\n",
    "    elementos_repetidos=[] #crear lista vacía de elementos repetidos\n",
    "    elementos_no_repetidos=[] #crear lista de elementos no repetidos\n",
    "\n",
    "    for elemento in lista_1: #usar ciclo for\n",
    "        if elemento in lista_1 and elemento in lista_2: #condición si un elemento de la lista_1 se encuentra en la lista_2\n",
    "            elementos_repetidos.append(elemento)\n",
    "        else: #condición si un elemento de la lista_1 no se encuentra en la lista_2\n",
    "            elementos_no_repetidos.append(elemento)\n",
    "    return elementos_no_repetidos\n",
    "\n",
    "if __name__ == \"__main__\": #definir la función main\n",
    "#Definir las listas\n",
    "    lista_1 =[2, 5, 8, 9, 13, 'Hola','H',True, False, 'Sí']\n",
    "    lista_2 =['Sí', 'No', 'Tal vez', 1, 5, 8, 9, False]\n",
    "    \n",
    "    sin_repetir = elementos_repetición(lista_1,lista_2) #declarar e inicializar una variable con el resultado que arroja la función elementos_repetición\n",
    "\n",
    "print(f\"Los elementos que no tiene la segunda lista de la primera lista son:{sin_repetir}.\") #imprimir la lista de los elementos_no_repetidos"
   ]
  },
  {
   "cell_type": "code",
   "execution_count": null,
   "metadata": {},
   "outputs": [],
   "source": [
    "#Lista con múltiplos del 3 con %\n",
    "def multiplos_de_3(lista_A:int) -> int: #definir la función para calcular los múltiplos de 3\n",
    "    lista_multiplos =[numero for numero in lista_A if numero % 3 == 0] #usar list comprehension\n",
    "    \n",
    "    return lista_multiplos\n",
    "\n",
    "if __name__ == \"__main__\": #definir la función main\n",
    "    lista_A =[1, 3, 5, 6, 7, 8, 9, 45, 44, 76, 3435, 4657657678, 5532432, 6766, 4777, 56, 49, 66] #crear la lista de números\n",
    "    multiplos = multiplos_de_3(lista_A)  #declarar e inicializar una variable con el resultado que arroja la función multiplos_de_3\n",
    "\n",
    "    print(f\"Los múltiplos de 3 que se encuentran en la lista son {multiplos}\") #imprimir los múltiplos de 3 presentes en la lista"
   ]
  },
  {
   "cell_type": "code",
   "execution_count": null,
   "metadata": {},
   "outputs": [],
   "source": [
    "#Lista con múltiplos de 3 sin %\n",
    "def multiplos_de_3(lista_A:int) -> int: #definir la función para calcular los múltiplos de 3\n",
    "    lista_multiplos = [] #crear una lista vacía\n",
    "    for numero in lista_A: #usar bucle for\n",
    "        numero_str = str(numero) #declarar e inicializar una variable para poder convertir el número a un string o una cadena con una longitud determinada\n",
    "        suma = 0 #inicializar la variable suma\n",
    "        for digito in numero_str: #usar bucle for para que me recorrar todas las partes de la cadena numero_str\n",
    "            suma += int(digito) #sumar cada parte de la cadena\n",
    "            if suma == 3 or suma == 6 or suma == 9: #condición si es múltiplo de 3\n",
    "                lista_multiplos.append(numero) #si cumple la condición, se agrega el número a la lista de los múltiplos\n",
    "            else:\n",
    "                continue\n",
    "    return lista_multiplos\n",
    "\n",
    "if __name__ == \"__main__\": #definir la función main\n",
    "    lista_A =[1, 3, 5, 6, 7, 8, 9, 45, 44, 76, 3435, 4657657678, 5532432, 6766, 4777, 56, 49, 66] #crear la lista de números\n",
    "    multiplos = multiplos_de_3(lista_A) #declarar e inicializar una variable con el resultado que arroja la función multiplos_de_3\n",
    "\n",
    "    print(f\"Los múltiplos de 3 que se encuentran en la lista son {multiplos}\") #imprimir los múltiplos de 3 presentes en la lista"
   ]
  }
 ],
 "metadata": {
  "kernelspec": {
   "display_name": "Python 3",
   "language": "python",
   "name": "python3"
  },
  "language_info": {
   "codemirror_mode": {
    "name": "ipython",
    "version": 3
   },
   "file_extension": ".py",
   "mimetype": "text/x-python",
   "name": "python",
   "nbconvert_exporter": "python",
   "pygments_lexer": "ipython3",
   "version": "3.11.4"
  }
 },
 "nbformat": 4,
 "nbformat_minor": 2
}
