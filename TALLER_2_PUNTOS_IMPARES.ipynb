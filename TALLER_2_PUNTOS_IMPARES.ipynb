{
 "cells": [
  {
   "cell_type": "markdown",
   "metadata": {},
   "source": [
    "# PUNTO 1 "
   ]
  },
  {
   "cell_type": "code",
   "execution_count": 7,
   "metadata": {},
   "outputs": [
    {
     "name": "stdout",
     "output_type": "stream",
     "text": [
      "1\n",
      "2\n",
      "3\n",
      "3\n"
     ]
    }
   ],
   "source": [
    "x=int(input(\"ingrese un numero:\")) #Pedir al usuario que ingrese un número \n",
    "lista = []  # Crear una lista vacias para alamacenar los digistos \n",
    "\n",
    "while x > 0:   # crear un bulce while que se repite mientras la variable x es mayor a 0\n",
    "\tlista1 = x % 10  # se utiliza el modulo para ingresar el ultimo digito. Ejemplo:  si el numero es 456  ingresa 6\n",
    "\tlista.insert(0, lista1)  # .insert  es para acomodar el ultimo digito del paso anterior en la lista\n",
    "\tx = x // 10\t# y la division es para eliminar ese ultimo digito \n",
    "\n",
    "for lista1 in lista: # al final solo queda imprimir la lista \n",
    "\tprint(lista1)  \n"
   ]
  },
  {
   "cell_type": "markdown",
   "metadata": {},
   "source": [
    "# PUNTO 3"
   ]
  },
  {
   "cell_type": "code",
   "execution_count": 8,
   "metadata": {},
   "outputs": [
    {
     "name": "stdout",
     "output_type": "stream",
     "text": [
      "123 no es un numero espejo:\n",
      "1212121 es un numero espejo:\n"
     ]
    }
   ],
   "source": [
    "def NumeroEspejo(x:int)->int: # Crear una funcion que calcule si el primer numero es espejo\n",
    "    Numero= str(x) #convierte el valor en una cadena\n",
    "    InvertirNumero= Numero[::-1] #revierte esa cadena \n",
    "    if Numero == InvertirNumero: # si la cadena original y la revertida son iguales retornara a true, sino a False\n",
    "        return True\n",
    "    else:\n",
    "        return False\n",
    "    \n",
    "def NumeroEspejo2(y: int)->int: #Literalmente lo mismo que el primer numero, pero con el segundo :)\n",
    "    Numero2= str(y)\n",
    "    InvertirNumero2= Numero2[::-1]\n",
    "    if Numero2 == InvertirNumero2:\n",
    "        return True\n",
    "    else:\n",
    "        return False\n",
    "    \n",
    "x:int=int(input(\"ingrese el numero 1:\"))\n",
    "y:int=int(input(\"ingrese el numero 1:\")) #aqui se pide el ingreso de dos numeros aleatorios \n",
    "\n",
    "if NumeroEspejo(x):\n",
    "    print(f\"{x} es un numero espejo:\")           #imprime si el primer numero es espejo o no\n",
    "else:\n",
    "    print(f\"{x} no es un numero espejo:\")\n",
    "\n",
    "if NumeroEspejo2(y):\n",
    "    print(f\"{y} es un numero espejo:\")             #imprime si el segundo numero es espejo o no\n",
    "else:\n",
    "    print(f\"{y} no es un numero espejo:\")"
   ]
  },
  {
   "cell_type": "markdown",
   "metadata": {},
   "source": [
    "# PUNTO 5 ITERATIVO"
   ]
  },
  {
   "cell_type": "code",
   "execution_count": 9,
   "metadata": {},
   "outputs": [
    {
     "name": "stdout",
     "output_type": "stream",
     "text": [
      "El MCM de 123 y 124 es 15252\n"
     ]
    }
   ],
   "source": [
    "def MCDiterativo(x:int, y:int)->int: # funcio para calcular el MCD\n",
    "      while x%y != 0: #se uso un bucel de tipo while. mientras x modulo y sea diferente de o se reazlizar la sigueinete operacion\n",
    "            x,y= y, x%y # se intercambian los numeros: x por y. y por x%y\n",
    "      return y\n",
    "    \n",
    "x = int(input(\"Ingresa el primer número entero: \"))\n",
    "y = int(input(\"Ingresa el segundo número entero: \"))     #ingreso de los valores \n",
    "\n",
    "MCM= (x * y) // MCDiterativo(x, y) # se utilizo la formula para hallar el MCM por medio del MCD \n",
    "print(f\"El MCM de {x} y {y} es {MCM}\") # se imprime "
   ]
  },
  {
   "cell_type": "markdown",
   "metadata": {},
   "source": [
    "# PUNTO 5 RECURSIVO"
   ]
  },
  {
   "cell_type": "code",
   "execution_count": 10,
   "metadata": {},
   "outputs": [
    {
     "name": "stdout",
     "output_type": "stream",
     "text": [
      "El MCM de 123 y 124 es 15252\n"
     ]
    }
   ],
   "source": [
    "def MCDrecursivo(x:int, y:int)->int: # se define la funcion para hallar el MCD por el algoritmo de euclides \n",
    "    if y == 0 : #mientas la variable y sea 0 retornara a x \n",
    "        return x\n",
    "    return MCDrecursivo(y, x % y) #No lo voy a negar, tuve que buscar ayuda pa entender esto y aun asi no lo entiendo\n",
    "    \n",
    "x = int(input(\"Ingresa el primer número entero: \"))\n",
    "y = int(input(\"Ingresa el segundo número entero: \"))       #ingreso de los valores \n",
    "\n",
    "MCM= (x * y) // MCDrecursivo(x, y) # se utilizo la formula para hallar el MCM por medio del MCD \n",
    "\n",
    "print(f\"El MCM de {x} y {y} es {MCM}\") #imprime esa vuelta pa "
   ]
  },
  {
   "cell_type": "markdown",
   "metadata": {},
   "source": [
    "# PUNTO 7"
   ]
  },
  {
   "cell_type": "code",
   "execution_count": 18,
   "metadata": {},
   "outputs": [
    {
     "name": "stdout",
     "output_type": "stream",
     "text": [
      "No existe mi rey\n",
      "felipe\n",
      "programar\n",
      "No existe mi rey\n"
     ]
    }
   ],
   "source": [
    "def VocalesEnCadena(Listadecadena): # se define la funcion \n",
    "    LasVocales=\"A a E e I i O o U u\" #se define lo que el codigo reconocera como vocales para la ejecución \n",
    "    ContadorVocales=0  # se necesitaba una variable\n",
    "\n",
    "    for vocal in Listadecadena: #se usa un ciclo de tipo for para que la funcion se aplique a las palabras \n",
    "        if vocal in LasVocales:\n",
    "            ContadorVocales +=1  \n",
    "        elif ContadorVocales >= 2: # mientras que se cumpla el hechod de que tiene dos o mas vocales retornara a true\n",
    "          return True\n",
    "    \n",
    "        \n",
    "if __name__ == \"__main__\":\n",
    "    x=input(\"ingrese una palabras al azar (separas por espacio por favor): \") #se pide al usuario que ingrese las palabras\n",
    "    ConvertirEnCadenas= x.split() # la funcion split es para que divida los datos ingresados anteriormente en una lista de subcadenas \n",
    "    for Listadecadena in ConvertirEnCadenas:\n",
    "        if VocalesEnCadena(Listadecadena): # mienras la condicion se cumpla imprimira la cadena o  palabra ingresada\n",
    "            print(Listadecadena)\n",
    "        else:                              # sino, pues no xdxdxd\n",
    "            print(\"No existe mi rey\")\n",
    "#PSDT: ALGUNAS PALBRAS ME ESTA SALTANDO QUE NO EXISTEN, EJEMPLO HOLA Y OTRAS ASI CON SOLO DOS VOCALES PERO NI IDEA DEL PORQUE"
   ]
  },
  {
   "cell_type": "markdown",
   "metadata": {},
   "source": [
    "# PUNTO 9"
   ]
  },
  {
   "cell_type": "code",
   "execution_count": 20,
   "metadata": {},
   "outputs": [
    {
     "name": "stdout",
     "output_type": "stream",
     "text": [
      "[123.0, 54.0, 66.0, 71.0, 124.0]\n",
      "el promedio es 87.6\n",
      "la mediana es 71.0\n",
      "El promedio multiplicativo es 82.66174482539355\n",
      "orden Ascendente: [54.0, 66.0, 71.0, 123.0, 124.0]\n",
      "orden Descendente: [124.0, 123.0, 71.0, 66.0, 54.0]\n",
      "La potencia del mayor al menor es: 1.1085901072760619e+113\n",
      "la raiz cubica del menor es: 3.7797631496846193\n"
     ]
    }
   ],
   "source": [
    "a:float=float(input(\"ingrese el primer número:\"))\n",
    "b:float=float(input(\"ingrese el segundo número:\"))\n",
    "c:float=float(input(\"ingrese el tercer número:\"))        #pedimos el ingreso de 5 numeros reales\n",
    "d:float=float(input(\"ingrese el cuarto número:\"))\n",
    "e:float=float(input(\"ingrese el quinto número:\"))\n",
    "\n",
    "lista= [a, b, c, d, e]               # creamos una lista con  los 5 numeros\n",
    "\n",
    "def CalcularPromedio(lista)->float:       #para calcular el promedio sumamos los elementos de la lista con sum() y desues recorremos la lista con len para analizar cuantos elementos hay\n",
    "    lista= [a, b, c, d, e]\n",
    "    suma = sum(lista)              \n",
    "    promedio = suma/len(lista)\n",
    "    return promedio                     #dividimos la suma entre la cantidad de elementos\n",
    "promedio= CalcularPromedio(lista)\n",
    "\n",
    "def CalcularMediana(lista)->float:      #funcion para calcular la mediana \n",
    "    lista= [a, b, c, d, e]           # aqui ordenamos la lista con sort\n",
    "    lista.sort()\n",
    "    return lista[2]                #despues de ordenar la lista retorna al tercer elemento, lo que seria nuestra mediana\n",
    "Mediana= CalcularMediana(lista)\n",
    "\n",
    "def CalcularPromedioMultiplicativo(lista)->float:      #funcion para clacular le promedio multiplicativo\n",
    "    lista= [a, b, c, d, e]\n",
    "    PromedioMultiplicativo= (a*b*c*d*e)**(1/5)        #multiplicamos todos los elementos (a*b*c*d*e)  y esto lo elevamos a 1/5 lo que seria la raiz quinta que es la cantidad de elementos\n",
    "    return PromedioMultiplicativo\n",
    "PromedioMultiplicativo= CalcularPromedioMultiplicativo(lista)\n",
    "\n",
    "def Ascendente(lista)->float:           # funcion para orden ascendente \n",
    "    lista= [a, b, c, d, e]           \n",
    "    lista.sort()              # solo se ordenan con sort\n",
    "    return lista\n",
    "OrdenAscendente= Ascendente(lista)\n",
    "\n",
    "def Descendente(lista)->float:        #funcion para orden descendente\n",
    "    lista= [a, b, c, d, e] \n",
    "    Invertido = sorted(lista)         \n",
    "    Invertido1 = Invertido[::-1] #aunque se puede utilizar un booleano para revertir la lista, tambien es posible de esta manera\n",
    "    return Invertido1\n",
    "OrdenDescendente= Descendente(lista)\n",
    "\n",
    "def PotenciaDelMayorAlMenor(lista)->float:   #funcion para la potencia del mayor al menor\n",
    "    lista= [a, b, c, d, e]       \n",
    "    mayor = max(lista)            # con max tenemos el numero mayor de la lista\n",
    "    menor = min(lista)            #con min tenemos el numero menor de la lista\n",
    "    DelMayorAlMenor= mayor**menor        # elevamos el mayor al menor\n",
    "    return DelMayorAlMenor\n",
    "PotenciaDelMayorAlMenor1 = PotenciaDelMayorAlMenor(lista)\n",
    "\n",
    "def RaizCubicaDelMenor(lista)->float:\n",
    "    lista= [a, b, c, d, e]                     \n",
    "    menor1 = min(lista)                 #con min tenemos el numero menor de la lista\n",
    "    RaizCubicaDelMenor1 = (menor1)**(1/3)   # elevamos este numero a 1/3 que seria la raiz cubica \n",
    "    return RaizCubicaDelMenor1\n",
    "RaizCubicaDelMenor2 = RaizCubicaDelMenor(lista)\n",
    "\n",
    "print(lista)\n",
    "print(f\"el promedio es {promedio}\")\n",
    "print(f\"la mediana es {Mediana}\")\n",
    "print(f\"El promedio multiplicativo es {PromedioMultiplicativo}\") \n",
    "print(f\"orden Ascendente: {OrdenAscendente}\")                           # imprimimos todos los valores de las funciones anteriores \n",
    "print(f\"orden Descendente: {OrdenDescendente}\")\n",
    "print(f\"La potencia del mayor al menor es: {PotenciaDelMayorAlMenor1}\")\n",
    "print(f\"la raiz cubica del menor es: {RaizCubicaDelMenor2}\")\n"
   ]
  }
 ],
 "metadata": {
  "kernelspec": {
   "display_name": "Python 3",
   "language": "python",
   "name": "python3"
  },
  "language_info": {
   "codemirror_mode": {
    "name": "ipython",
    "version": 3
   },
   "file_extension": ".py",
   "mimetype": "text/x-python",
   "name": "python",
   "nbconvert_exporter": "python",
   "pygments_lexer": "ipython3",
   "version": "3.11.5"
  }
 },
 "nbformat": 4,
 "nbformat_minor": 2
}
